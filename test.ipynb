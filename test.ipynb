{
 "cells": [
  {
   "cell_type": "code",
   "execution_count": 9,
   "outputs": [],
   "source": [
    "import numpy as np\n",
    "import pandas as pd"
   ],
   "metadata": {
    "collapsed": false,
    "pycharm": {
     "name": "#%%\n",
     "is_executing": false
    }
   }
  },
  {
   "cell_type": "markdown",
   "source": [
    "### Reading the dataset"
   ],
   "metadata": {
    "collapsed": false
   }
  },
  {
   "cell_type": "code",
   "execution_count": 10,
   "outputs": [],
   "source": [
    "ds_path = \"../isolated\"\n",
    "X = pd.read_csv(\"Leaves.csv\")"
   ],
   "metadata": {
    "collapsed": false,
    "pycharm": {
     "name": "#%%\n",
     "is_executing": false
    }
   }
  },
  {
   "cell_type": "code",
   "execution_count": 11,
   "outputs": [
    {
     "data": {
      "text/plain": "   Unnamed: 0     area    perimeter  physiological_length  \\\n0           0  33137.5   970.884337                   298   \n1           0  90452.0  1536.655978                   480   \n2           0  13561.0   520.132030                   203   \n3           0  62307.5  1283.418388                   311   \n4           0  29572.0   792.842707                   292   \n\n   physiological_width  aspect_ratio  rectangularity  circularity      mean_r  \\\n0                  217      1.373272        1.951445    28.445610   69.672585   \n1                  341      1.407625        1.809579    26.105687   99.880566   \n2                  103      1.970874        1.541848    19.949659   35.414047   \n3                  396      0.785354        1.976584    26.436027  107.732582   \n4                  164      1.780488        1.619370    21.256579   36.953629   \n\n       mean_g     mean_b    stddev_r    stddev_g    stddev_b   contrast  \\\n0   71.534256  65.823727  100.086127   99.473491   98.255443  24.184390   \n1  104.430489  93.488476   98.334306   96.386854   98.904391  48.890874   \n2   35.866009  34.778275   80.314397   79.906063   79.307605  12.200862   \n3  109.624241  97.961094  102.888560  101.833972  100.823696  19.436163   \n4   38.087666  33.849438   76.278185   77.066077   72.806129  13.442765   \n\n   correlation  inverse_difference_moments   entropy  \n0     0.995882                    0.820608  4.572274  \n1     0.995985                    0.630689  7.617112  \n2     0.995571                    0.915187  2.329924  \n3     0.996564                    0.728378  6.230782  \n4     0.996054                    0.879555  2.893167  ",
      "text/html": "<div>\n<style scoped>\n    .dataframe tbody tr th:only-of-type {\n        vertical-align: middle;\n    }\n\n    .dataframe tbody tr th {\n        vertical-align: top;\n    }\n\n    .dataframe thead th {\n        text-align: right;\n    }\n</style>\n<table border=\"1\" class=\"dataframe\">\n  <thead>\n    <tr style=\"text-align: right;\">\n      <th></th>\n      <th>Unnamed: 0</th>\n      <th>area</th>\n      <th>perimeter</th>\n      <th>physiological_length</th>\n      <th>physiological_width</th>\n      <th>aspect_ratio</th>\n      <th>rectangularity</th>\n      <th>circularity</th>\n      <th>mean_r</th>\n      <th>mean_g</th>\n      <th>mean_b</th>\n      <th>stddev_r</th>\n      <th>stddev_g</th>\n      <th>stddev_b</th>\n      <th>contrast</th>\n      <th>correlation</th>\n      <th>inverse_difference_moments</th>\n      <th>entropy</th>\n    </tr>\n  </thead>\n  <tbody>\n    <tr>\n      <th>0</th>\n      <td>0</td>\n      <td>33137.5</td>\n      <td>970.884337</td>\n      <td>298</td>\n      <td>217</td>\n      <td>1.373272</td>\n      <td>1.951445</td>\n      <td>28.445610</td>\n      <td>69.672585</td>\n      <td>71.534256</td>\n      <td>65.823727</td>\n      <td>100.086127</td>\n      <td>99.473491</td>\n      <td>98.255443</td>\n      <td>24.184390</td>\n      <td>0.995882</td>\n      <td>0.820608</td>\n      <td>4.572274</td>\n    </tr>\n    <tr>\n      <th>1</th>\n      <td>0</td>\n      <td>90452.0</td>\n      <td>1536.655978</td>\n      <td>480</td>\n      <td>341</td>\n      <td>1.407625</td>\n      <td>1.809579</td>\n      <td>26.105687</td>\n      <td>99.880566</td>\n      <td>104.430489</td>\n      <td>93.488476</td>\n      <td>98.334306</td>\n      <td>96.386854</td>\n      <td>98.904391</td>\n      <td>48.890874</td>\n      <td>0.995985</td>\n      <td>0.630689</td>\n      <td>7.617112</td>\n    </tr>\n    <tr>\n      <th>2</th>\n      <td>0</td>\n      <td>13561.0</td>\n      <td>520.132030</td>\n      <td>203</td>\n      <td>103</td>\n      <td>1.970874</td>\n      <td>1.541848</td>\n      <td>19.949659</td>\n      <td>35.414047</td>\n      <td>35.866009</td>\n      <td>34.778275</td>\n      <td>80.314397</td>\n      <td>79.906063</td>\n      <td>79.307605</td>\n      <td>12.200862</td>\n      <td>0.995571</td>\n      <td>0.915187</td>\n      <td>2.329924</td>\n    </tr>\n    <tr>\n      <th>3</th>\n      <td>0</td>\n      <td>62307.5</td>\n      <td>1283.418388</td>\n      <td>311</td>\n      <td>396</td>\n      <td>0.785354</td>\n      <td>1.976584</td>\n      <td>26.436027</td>\n      <td>107.732582</td>\n      <td>109.624241</td>\n      <td>97.961094</td>\n      <td>102.888560</td>\n      <td>101.833972</td>\n      <td>100.823696</td>\n      <td>19.436163</td>\n      <td>0.996564</td>\n      <td>0.728378</td>\n      <td>6.230782</td>\n    </tr>\n    <tr>\n      <th>4</th>\n      <td>0</td>\n      <td>29572.0</td>\n      <td>792.842707</td>\n      <td>292</td>\n      <td>164</td>\n      <td>1.780488</td>\n      <td>1.619370</td>\n      <td>21.256579</td>\n      <td>36.953629</td>\n      <td>38.087666</td>\n      <td>33.849438</td>\n      <td>76.278185</td>\n      <td>77.066077</td>\n      <td>72.806129</td>\n      <td>13.442765</td>\n      <td>0.996054</td>\n      <td>0.879555</td>\n      <td>2.893167</td>\n    </tr>\n  </tbody>\n</table>\n</div>"
     },
     "metadata": {},
     "output_type": "execute_result",
     "execution_count": 11
    }
   ],
   "source": [
    "X.head(5)"
   ],
   "metadata": {
    "collapsed": false,
    "pycharm": {
     "name": "#%%\n",
     "is_executing": false
    }
   }
  },
  {
   "cell_type": "code",
   "execution_count": 12,
   "outputs": [
    {
     "data": {
      "text/plain": "pandas.core.frame.DataFrame"
     },
     "metadata": {},
     "output_type": "execute_result",
     "execution_count": 12
    }
   ],
   "source": [
    "type(X)\n"
   ],
   "metadata": {
    "collapsed": false,
    "pycharm": {
     "name": "#%%\n",
     "is_executing": false
    }
   }
  },
  {
   "cell_type": "code",
   "execution_count": 13,
   "outputs": [
    {
     "name": "stdout",
     "text": [
      "garryana\nglabrum\nmacrophyllum\nkelloggii\ncircinatum\nnegundo\n"
     ],
     "output_type": "stream"
    },
    {
     "data": {
      "text/plain": "array([0, 0, 0, 0, 0, 0, 0, 0, 0, 0, 0, 0, 0, 0, 0, 0, 0, 0, 0, 0, 0, 0,\n       0, 0, 0, 0, 0, 0, 0, 0, 0, 0, 0, 0, 0, 0, 0, 0, 0, 0, 0, 0, 0, 0,\n       0, 0, 0, 0, 0, 0, 0, 0, 0, 0, 0, 0, 0, 0, 0, 0, 0, 0, 0, 0, 0, 0,\n       0, 0, 0, 0, 0, 0, 0, 0, 0, 0, 0, 0, 0, 0, 0, 0, 0, 0, 1, 1, 1, 1,\n       1, 1, 1, 1, 1, 1, 1, 1, 1, 1, 1, 1, 1, 1, 1, 1, 1, 1, 1, 1, 1, 1,\n       1, 1, 1, 1, 1, 1, 1, 1, 1, 1, 1, 1, 1, 1, 1, 1, 1, 1, 1, 1, 1, 1,\n       1, 1, 1, 1, 1, 1, 1, 1, 1, 1, 1, 1, 1, 1, 1, 1, 1, 1, 1, 1, 1, 1,\n       1, 1, 1, 1, 1, 2, 2, 2, 2, 2, 2, 2, 2, 2, 2, 2, 2, 2, 2, 2, 2, 2,\n       2, 2, 2, 2, 2, 2, 2, 2, 2, 2, 2, 2, 2, 2, 2, 2, 2, 2, 2, 2, 2, 2,\n       2, 2, 2, 2, 2, 2, 2, 2, 2, 2, 2, 2, 2, 2, 2, 2, 2, 2, 2, 2, 2, 2,\n       2, 2, 2, 2, 2, 2, 2, 2, 2, 2, 2, 2, 2, 2, 2, 2, 2, 2, 2, 2, 2, 3,\n       3, 3, 3, 3, 3, 3, 3, 3, 3, 3, 3, 3, 3, 3, 3, 3, 3, 3, 3, 3, 3, 3,\n       3, 3, 3, 3, 3, 3, 3, 3, 3, 3, 3, 3, 3, 3, 3, 3, 3, 3, 3, 3, 3, 3,\n       3, 3, 3, 3, 3, 3, 3, 3, 3, 3, 3, 3, 3, 3, 3, 3, 3, 3, 3, 3, 3, 3,\n       3, 3, 3, 3, 3, 3, 3, 3, 3, 3, 3, 3, 3, 3, 3, 3, 3, 3, 3, 3, 3, 3,\n       3, 3, 3, 3, 3, 3, 3, 3, 4, 4, 4, 4, 4, 4, 4, 4, 4, 4, 4, 4, 4, 4,\n       4, 4, 4, 4, 4, 4, 4, 4, 4, 4, 4, 4, 4, 4, 4, 4, 4, 4, 4, 4, 4, 4,\n       4, 4, 4, 4, 4, 4, 4, 4, 4, 4, 4, 4, 4, 4, 4, 4, 4, 4, 4, 4, 4, 4,\n       4, 4, 4, 4, 4, 4, 4, 4, 5, 5, 5, 5, 5, 5, 5, 5, 5, 5, 5, 5, 5, 5,\n       5, 5, 5, 5, 5, 5, 5, 5, 5, 5, 5, 5, 5, 5, 5, 5, 5, 5, 5, 5, 5, 5,\n       5, 5])"
     },
     "metadata": {},
     "output_type": "execute_result",
     "execution_count": 13
    }
   ],
   "source": [
    "X = pd.read_csv(\"Leaves.csv\")\n",
    "# %%\n",
    "import os\n",
    "i = 0\n",
    "target_list = []\n",
    "for dir in os.listdir(ds_path):\n",
    "    image_dirs = os.path.join(os.path.join(ds_path, dir))\n",
    "    if os.path.isdir(image_dirs):\n",
    "        print(dir)\n",
    "        for file in os.listdir(image_dirs):\n",
    "            target_list.append(i)\n",
    "        i = i + 1\n",
    "y = np.array(target_list)\n",
    "# %%\n",
    "y"
   ],
   "metadata": {
    "collapsed": false,
    "pycharm": {
     "name": "#%%\n",
     "is_executing": false
    }
   }
  },
  {
   "cell_type": "code",
   "execution_count": 14,
   "outputs": [],
   "source": [
    "X = X.iloc[:,1:]"
   ],
   "metadata": {
    "collapsed": false,
    "pycharm": {
     "name": "#%%\n",
     "is_executing": false
    }
   }
  },
  {
   "cell_type": "code",
   "execution_count": 15,
   "outputs": [
    {
     "data": {
      "text/plain": "      area    perimeter  physiological_length  physiological_width  \\\n0  33137.5   970.884337                   298                  217   \n1  90452.0  1536.655978                   480                  341   \n2  13561.0   520.132030                   203                  103   \n3  62307.5  1283.418388                   311                  396   \n4  29572.0   792.842707                   292                  164   \n\n   aspect_ratio  rectangularity  circularity      mean_r      mean_g  \\\n0      1.373272        1.951445    28.445610   69.672585   71.534256   \n1      1.407625        1.809579    26.105687   99.880566  104.430489   \n2      1.970874        1.541848    19.949659   35.414047   35.866009   \n3      0.785354        1.976584    26.436027  107.732582  109.624241   \n4      1.780488        1.619370    21.256579   36.953629   38.087666   \n\n      mean_b    stddev_r    stddev_g    stddev_b   contrast  correlation  \\\n0  65.823727  100.086127   99.473491   98.255443  24.184390     0.995882   \n1  93.488476   98.334306   96.386854   98.904391  48.890874     0.995985   \n2  34.778275   80.314397   79.906063   79.307605  12.200862     0.995571   \n3  97.961094  102.888560  101.833972  100.823696  19.436163     0.996564   \n4  33.849438   76.278185   77.066077   72.806129  13.442765     0.996054   \n\n   inverse_difference_moments   entropy  \n0                    0.820608  4.572274  \n1                    0.630689  7.617112  \n2                    0.915187  2.329924  \n3                    0.728378  6.230782  \n4                    0.879555  2.893167  ",
      "text/html": "<div>\n<style scoped>\n    .dataframe tbody tr th:only-of-type {\n        vertical-align: middle;\n    }\n\n    .dataframe tbody tr th {\n        vertical-align: top;\n    }\n\n    .dataframe thead th {\n        text-align: right;\n    }\n</style>\n<table border=\"1\" class=\"dataframe\">\n  <thead>\n    <tr style=\"text-align: right;\">\n      <th></th>\n      <th>area</th>\n      <th>perimeter</th>\n      <th>physiological_length</th>\n      <th>physiological_width</th>\n      <th>aspect_ratio</th>\n      <th>rectangularity</th>\n      <th>circularity</th>\n      <th>mean_r</th>\n      <th>mean_g</th>\n      <th>mean_b</th>\n      <th>stddev_r</th>\n      <th>stddev_g</th>\n      <th>stddev_b</th>\n      <th>contrast</th>\n      <th>correlation</th>\n      <th>inverse_difference_moments</th>\n      <th>entropy</th>\n    </tr>\n  </thead>\n  <tbody>\n    <tr>\n      <th>0</th>\n      <td>33137.5</td>\n      <td>970.884337</td>\n      <td>298</td>\n      <td>217</td>\n      <td>1.373272</td>\n      <td>1.951445</td>\n      <td>28.445610</td>\n      <td>69.672585</td>\n      <td>71.534256</td>\n      <td>65.823727</td>\n      <td>100.086127</td>\n      <td>99.473491</td>\n      <td>98.255443</td>\n      <td>24.184390</td>\n      <td>0.995882</td>\n      <td>0.820608</td>\n      <td>4.572274</td>\n    </tr>\n    <tr>\n      <th>1</th>\n      <td>90452.0</td>\n      <td>1536.655978</td>\n      <td>480</td>\n      <td>341</td>\n      <td>1.407625</td>\n      <td>1.809579</td>\n      <td>26.105687</td>\n      <td>99.880566</td>\n      <td>104.430489</td>\n      <td>93.488476</td>\n      <td>98.334306</td>\n      <td>96.386854</td>\n      <td>98.904391</td>\n      <td>48.890874</td>\n      <td>0.995985</td>\n      <td>0.630689</td>\n      <td>7.617112</td>\n    </tr>\n    <tr>\n      <th>2</th>\n      <td>13561.0</td>\n      <td>520.132030</td>\n      <td>203</td>\n      <td>103</td>\n      <td>1.970874</td>\n      <td>1.541848</td>\n      <td>19.949659</td>\n      <td>35.414047</td>\n      <td>35.866009</td>\n      <td>34.778275</td>\n      <td>80.314397</td>\n      <td>79.906063</td>\n      <td>79.307605</td>\n      <td>12.200862</td>\n      <td>0.995571</td>\n      <td>0.915187</td>\n      <td>2.329924</td>\n    </tr>\n    <tr>\n      <th>3</th>\n      <td>62307.5</td>\n      <td>1283.418388</td>\n      <td>311</td>\n      <td>396</td>\n      <td>0.785354</td>\n      <td>1.976584</td>\n      <td>26.436027</td>\n      <td>107.732582</td>\n      <td>109.624241</td>\n      <td>97.961094</td>\n      <td>102.888560</td>\n      <td>101.833972</td>\n      <td>100.823696</td>\n      <td>19.436163</td>\n      <td>0.996564</td>\n      <td>0.728378</td>\n      <td>6.230782</td>\n    </tr>\n    <tr>\n      <th>4</th>\n      <td>29572.0</td>\n      <td>792.842707</td>\n      <td>292</td>\n      <td>164</td>\n      <td>1.780488</td>\n      <td>1.619370</td>\n      <td>21.256579</td>\n      <td>36.953629</td>\n      <td>38.087666</td>\n      <td>33.849438</td>\n      <td>76.278185</td>\n      <td>77.066077</td>\n      <td>72.806129</td>\n      <td>13.442765</td>\n      <td>0.996054</td>\n      <td>0.879555</td>\n      <td>2.893167</td>\n    </tr>\n  </tbody>\n</table>\n</div>"
     },
     "metadata": {},
     "output_type": "execute_result",
     "execution_count": 15
    }
   ],
   "source": [
    "X.head(5)"
   ],
   "metadata": {
    "collapsed": false,
    "pycharm": {
     "name": "#%%\n",
     "is_executing": false
    }
   }
  },
  {
   "cell_type": "code",
   "execution_count": 16,
   "outputs": [
    {
     "data": {
      "text/plain": "array([0, 0, 0, 0, 0])"
     },
     "metadata": {},
     "output_type": "execute_result",
     "execution_count": 16
    }
   ],
   "source": [
    "y[0:5]"
   ],
   "metadata": {
    "collapsed": false,
    "pycharm": {
     "name": "#%%\n",
     "is_executing": false
    }
   }
  },
  {
   "cell_type": "markdown",
   "source": [
    "### Train test split"
   ],
   "metadata": {
    "collapsed": false
   }
  },
  {
   "cell_type": "code",
   "execution_count": 17,
   "outputs": [],
   "source": [
    "from sklearn.model_selection import train_test_split"
   ],
   "metadata": {
    "collapsed": false,
    "pycharm": {
     "name": "#%%\n",
     "is_executing": false
    }
   }
  },
  {
   "cell_type": "code",
   "execution_count": 18,
   "outputs": [],
   "source": [
    "X_train, X_test, y_train, y_test = train_test_split(X, y, test_size=0.3, random_state = 142)"
   ],
   "metadata": {
    "collapsed": false,
    "pycharm": {
     "name": "#%%\n",
     "is_executing": false
    }
   }
  },
  {
   "cell_type": "code",
   "execution_count": 19,
   "outputs": [
    {
     "data": {
      "text/plain": "        area    perimeter  physiological_length  physiological_width  \\\n283  58929.0  1264.749342                   408                  261   \n38   33535.5   849.796026                   289                  209   \n369  41093.0   891.671135                   269                  225   \n344  50494.0  1079.386864                   271                  298   \n7    29751.5   765.570630                   170                  275   \n\n     aspect_ratio  rectangularity  circularity     mean_r     mean_g  \\\n283      1.563218        1.807056    27.144375  91.826241  89.612770   \n38       1.382775        1.801106    21.533995  55.599140  56.698742   \n369      1.195556        1.472879    19.348245  57.032787  61.189686   \n344      0.909396        1.599358    23.073553  74.843868  79.805832   \n7        0.618182        1.571349    19.699793  46.462589  47.497261   \n\n        mean_b    stddev_r    stddev_g   stddev_b   contrast  correlation  \\\n283  90.613136  100.083118  100.460036  98.978522  47.888358     0.995195   \n38   52.005898   91.529013   91.089752  89.052774  17.377294     0.996802   \n369  51.552307   86.494212   88.592304  88.340754  15.979079     0.997307   \n344  70.351326   93.976530   94.896555  98.514671  19.907326     0.997189   \n7    43.952244   86.761606   86.396272  84.698131  18.608015     0.996619   \n\n     inverse_difference_moments   entropy  \n283                    0.668404  6.599769  \n38                     0.846487  3.923899  \n369                    0.847501  4.038472  \n344                    0.800307  5.049319  \n7                      0.856339  3.464743  ",
      "text/html": "<div>\n<style scoped>\n    .dataframe tbody tr th:only-of-type {\n        vertical-align: middle;\n    }\n\n    .dataframe tbody tr th {\n        vertical-align: top;\n    }\n\n    .dataframe thead th {\n        text-align: right;\n    }\n</style>\n<table border=\"1\" class=\"dataframe\">\n  <thead>\n    <tr style=\"text-align: right;\">\n      <th></th>\n      <th>area</th>\n      <th>perimeter</th>\n      <th>physiological_length</th>\n      <th>physiological_width</th>\n      <th>aspect_ratio</th>\n      <th>rectangularity</th>\n      <th>circularity</th>\n      <th>mean_r</th>\n      <th>mean_g</th>\n      <th>mean_b</th>\n      <th>stddev_r</th>\n      <th>stddev_g</th>\n      <th>stddev_b</th>\n      <th>contrast</th>\n      <th>correlation</th>\n      <th>inverse_difference_moments</th>\n      <th>entropy</th>\n    </tr>\n  </thead>\n  <tbody>\n    <tr>\n      <th>283</th>\n      <td>58929.0</td>\n      <td>1264.749342</td>\n      <td>408</td>\n      <td>261</td>\n      <td>1.563218</td>\n      <td>1.807056</td>\n      <td>27.144375</td>\n      <td>91.826241</td>\n      <td>89.612770</td>\n      <td>90.613136</td>\n      <td>100.083118</td>\n      <td>100.460036</td>\n      <td>98.978522</td>\n      <td>47.888358</td>\n      <td>0.995195</td>\n      <td>0.668404</td>\n      <td>6.599769</td>\n    </tr>\n    <tr>\n      <th>38</th>\n      <td>33535.5</td>\n      <td>849.796026</td>\n      <td>289</td>\n      <td>209</td>\n      <td>1.382775</td>\n      <td>1.801106</td>\n      <td>21.533995</td>\n      <td>55.599140</td>\n      <td>56.698742</td>\n      <td>52.005898</td>\n      <td>91.529013</td>\n      <td>91.089752</td>\n      <td>89.052774</td>\n      <td>17.377294</td>\n      <td>0.996802</td>\n      <td>0.846487</td>\n      <td>3.923899</td>\n    </tr>\n    <tr>\n      <th>369</th>\n      <td>41093.0</td>\n      <td>891.671135</td>\n      <td>269</td>\n      <td>225</td>\n      <td>1.195556</td>\n      <td>1.472879</td>\n      <td>19.348245</td>\n      <td>57.032787</td>\n      <td>61.189686</td>\n      <td>51.552307</td>\n      <td>86.494212</td>\n      <td>88.592304</td>\n      <td>88.340754</td>\n      <td>15.979079</td>\n      <td>0.997307</td>\n      <td>0.847501</td>\n      <td>4.038472</td>\n    </tr>\n    <tr>\n      <th>344</th>\n      <td>50494.0</td>\n      <td>1079.386864</td>\n      <td>271</td>\n      <td>298</td>\n      <td>0.909396</td>\n      <td>1.599358</td>\n      <td>23.073553</td>\n      <td>74.843868</td>\n      <td>79.805832</td>\n      <td>70.351326</td>\n      <td>93.976530</td>\n      <td>94.896555</td>\n      <td>98.514671</td>\n      <td>19.907326</td>\n      <td>0.997189</td>\n      <td>0.800307</td>\n      <td>5.049319</td>\n    </tr>\n    <tr>\n      <th>7</th>\n      <td>29751.5</td>\n      <td>765.570630</td>\n      <td>170</td>\n      <td>275</td>\n      <td>0.618182</td>\n      <td>1.571349</td>\n      <td>19.699793</td>\n      <td>46.462589</td>\n      <td>47.497261</td>\n      <td>43.952244</td>\n      <td>86.761606</td>\n      <td>86.396272</td>\n      <td>84.698131</td>\n      <td>18.608015</td>\n      <td>0.996619</td>\n      <td>0.856339</td>\n      <td>3.464743</td>\n    </tr>\n  </tbody>\n</table>\n</div>"
     },
     "metadata": {},
     "output_type": "execute_result",
     "execution_count": 19
    }
   ],
   "source": [
    "X_train.head(5)"
   ],
   "metadata": {
    "collapsed": false,
    "pycharm": {
     "name": "#%%\n",
     "is_executing": false
    }
   }
  },
  {
   "cell_type": "code",
   "execution_count": 20,
   "outputs": [
    {
     "data": {
      "text/plain": "array([3, 0, 4, 4, 0])"
     },
     "metadata": {},
     "output_type": "execute_result",
     "execution_count": 20
    }
   ],
   "source": [
    "y_train[0:5]"
   ],
   "metadata": {
    "collapsed": false,
    "pycharm": {
     "name": "#%%\n",
     "is_executing": false
    }
   }
  },
  {
   "cell_type": "markdown",
   "source": [
    "### Feature Scaling"
   ],
   "metadata": {
    "collapsed": false
   }
  },
  {
   "cell_type": "code",
   "execution_count": 21,
   "outputs": [],
   "source": [
    "from sklearn.preprocessing import StandardScaler"
   ],
   "metadata": {
    "collapsed": false,
    "pycharm": {
     "name": "#%%\n",
     "is_executing": false
    }
   }
  },
  {
   "cell_type": "code",
   "execution_count": 22,
   "outputs": [],
   "source": [
    "sc_X = StandardScaler()\n",
    "X_train = sc_X.fit_transform(X_train)\n",
    "X_test = sc_X.transform(X_test)"
   ],
   "metadata": {
    "collapsed": false,
    "pycharm": {
     "name": "#%%\n",
     "is_executing": false
    }
   }
  },
  {
   "cell_type": "code",
   "execution_count": 23,
   "outputs": [
    {
     "data": {
      "text/plain": "array([[-0.16112594, -0.0736828 ,  0.38191893, -0.3825362 ,  1.20442782,\n        -0.23489322, -0.27059823,  0.6453931 ,  0.47717303,  0.76614958,\n         0.72240237,  0.76821419,  0.47012311,  1.89970583, -0.86007676,\n        -1.26704869,  1.03797815],\n       [-0.48242981, -0.59114724, -0.29789233, -0.66225731,  0.74569195,\n        -0.23783217, -0.54483106, -0.66208225, -0.68172247, -0.68355398,\n        -0.10148205, -0.1440852 , -0.41926782, -0.50222413,  0.37844069,\n         0.60351205, -0.56388179]])"
     },
     "metadata": {},
     "output_type": "execute_result",
     "execution_count": 23
    }
   ],
   "source": [
    "X_train[0:2]"
   ],
   "metadata": {
    "collapsed": false,
    "pycharm": {
     "name": "#%%\n",
     "is_executing": false
    }
   }
  },
  {
   "cell_type": "code",
   "execution_count": 24,
   "outputs": [
    {
     "data": {
      "text/plain": "array([3, 0])"
     },
     "metadata": {},
     "output_type": "execute_result",
     "execution_count": 24
    }
   ],
   "source": [
    "y_train[0:2]"
   ],
   "metadata": {
    "collapsed": false,
    "pycharm": {
     "name": "#%%\n",
     "is_executing": false
    }
   }
  },
  {
   "cell_type": "markdown",
   "source": [
    "### Applying SVM classifier model"
   ],
   "metadata": {
    "collapsed": false
   }
  },
  {
   "cell_type": "code",
   "execution_count": 25,
   "outputs": [],
   "source": [
    "from sklearn import svm"
   ],
   "metadata": {
    "collapsed": false,
    "pycharm": {
     "name": "#%%\n",
     "is_executing": false
    }
   }
  },
  {
   "cell_type": "code",
   "execution_count": 26,
   "outputs": [
    {
     "data": {
      "text/plain": "SVC(C=1.0, break_ties=False, cache_size=200, class_weight=None, coef0=0.0,\n    decision_function_shape='ovr', degree=3, gamma='scale', kernel='rbf',\n    max_iter=-1, probability=False, random_state=None, shrinking=True,\n    tol=0.001, verbose=False)"
     },
     "metadata": {},
     "output_type": "execute_result",
     "execution_count": 26
    }
   ],
   "source": [
    "clf = svm.SVC()\n",
    "clf.fit(X_train,y_train)"
   ],
   "metadata": {
    "collapsed": false,
    "pycharm": {
     "name": "#%%\n",
     "is_executing": false
    }
   }
  },
  {
   "cell_type": "code",
   "execution_count": 27,
   "outputs": [],
   "source": [
    "y_pred = clf.predict(X_test)"
   ],
   "metadata": {
    "collapsed": false,
    "pycharm": {
     "name": "#%%\n",
     "is_executing": false
    }
   }
  },
  {
   "cell_type": "code",
   "execution_count": 28,
   "outputs": [],
   "source": [
    "from sklearn import metrics"
   ],
   "metadata": {
    "collapsed": false,
    "pycharm": {
     "name": "#%%\n",
     "is_executing": false
    }
   }
  },
  {
   "cell_type": "code",
   "execution_count": 29,
   "outputs": [
    {
     "data": {
      "text/plain": "0.8270676691729323"
     },
     "metadata": {},
     "output_type": "execute_result",
     "execution_count": 29
    }
   ],
   "source": [
    "metrics.accuracy_score(y_test, y_pred)"
   ],
   "metadata": {
    "collapsed": false,
    "pycharm": {
     "name": "#%%\n",
     "is_executing": false
    }
   }
  },
  {
   "cell_type": "code",
   "execution_count": 30,
   "outputs": [
    {
     "name": "stdout",
     "text": [
      "              precision    recall  f1-score   support\n\n           0       0.79      0.79      0.79        28\n           1       0.73      0.80      0.76        20\n           2       0.89      0.86      0.87        28\n           3       0.93      0.87      0.90        31\n           4       0.86      0.75      0.80        16\n           5       0.69      0.90      0.78        10\n\n    accuracy                           0.83       133\n   macro avg       0.81      0.83      0.82       133\nweighted avg       0.83      0.83      0.83       133\n\n"
     ],
     "output_type": "stream"
    }
   ],
   "source": [
    "print(metrics.classification_report(y_test, y_pred))"
   ],
   "metadata": {
    "collapsed": false,
    "pycharm": {
     "name": "#%%\n",
     "is_executing": false
    }
   }
  },
  {
   "cell_type": "markdown",
   "source": [
    "### Performing parameter tuning of the model"
   ],
   "metadata": {
    "collapsed": false
   }
  },
  {
   "cell_type": "code",
   "execution_count": 31,
   "outputs": [],
   "source": [
    "from sklearn.model_selection import GridSearchCV"
   ],
   "metadata": {
    "collapsed": false,
    "pycharm": {
     "name": "#%%\n",
     "is_executing": false
    }
   }
  },
  {
   "cell_type": "code",
   "execution_count": 32,
   "outputs": [],
   "source": [
    "parameters = [{'kernel': ['rbf'],\n",
    "               'gamma': [1e-4, 1e-3, 0.01, 0.1, 0.2, 0.5],\n",
    "               'C': [1, 10, 100, 1000]},\n",
    "              {'kernel': ['linear'], 'C': [1, 10, 100, 1000]}\n",
    "             ]"
   ],
   "metadata": {
    "collapsed": false,
    "pycharm": {
     "name": "#%%\n",
     "is_executing": false
    }
   }
  },
  {
   "cell_type": "code",
   "execution_count": 33,
   "outputs": [
    {
     "data": {
      "text/plain": "GridSearchCV(cv=5, error_score=nan,\n             estimator=SVC(C=1.0, break_ties=False, cache_size=200,\n                           class_weight=None, coef0=0.0,\n                           decision_function_shape='ovr', degree=3,\n                           gamma='scale', kernel='rbf', max_iter=-1,\n                           probability=False, random_state=None, shrinking=True,\n                           tol=0.001, verbose=False),\n             iid='deprecated', n_jobs=None,\n             param_grid=[{'C': [1, 10, 100, 1000],\n                          'gamma': [0.0001, 0.001, 0.01, 0.1, 0.2, 0.5],\n                          'kernel': ['rbf']},\n                         {'C': [1, 10, 100, 1000], 'kernel': ['linear']}],\n             pre_dispatch='2*n_jobs', refit=True, return_train_score=False,\n             scoring=None, verbose=0)"
     },
     "metadata": {},
     "output_type": "execute_result",
     "execution_count": 33
    }
   ],
   "source": [
    "svm_clf = GridSearchCV(svm.SVC(decision_function_shape='ovr'), parameters, cv=5)\n",
    "svm_clf.fit(X_train, y_train)"
   ],
   "metadata": {
    "collapsed": false,
    "pycharm": {
     "name": "#%%\n",
     "is_executing": false
    }
   }
  },
  {
   "cell_type": "code",
   "execution_count": 34,
   "outputs": [
    {
     "data": {
      "text/plain": "{'C': 1000, 'gamma': 0.01, 'kernel': 'rbf'}"
     },
     "metadata": {},
     "output_type": "execute_result",
     "execution_count": 34
    }
   ],
   "source": [
    "svm_clf.best_params_"
   ],
   "metadata": {
    "collapsed": false,
    "pycharm": {
     "name": "#%%\n",
     "is_executing": false
    }
   }
  },
  {
   "cell_type": "code",
   "execution_count": 35,
   "outputs": [
    {
     "name": "stdout",
     "text": [
      "0.214 (+/-0.013) for {'C': 1, 'gamma': 0.0001, 'kernel': 'rbf'}\n0.320 (+/-0.080) for {'C': 1, 'gamma': 0.001, 'kernel': 'rbf'}\n0.715 (+/-0.089) for {'C': 1, 'gamma': 0.01, 'kernel': 'rbf'}\n0.822 (+/-0.102) for {'C': 1, 'gamma': 0.1, 'kernel': 'rbf'}\n0.864 (+/-0.105) for {'C': 1, 'gamma': 0.2, 'kernel': 'rbf'}\n0.845 (+/-0.119) for {'C': 1, 'gamma': 0.5, 'kernel': 'rbf'}\n0.320 (+/-0.080) for {'C': 10, 'gamma': 0.0001, 'kernel': 'rbf'}\n0.683 (+/-0.116) for {'C': 10, 'gamma': 0.001, 'kernel': 'rbf'}\n0.861 (+/-0.111) for {'C': 10, 'gamma': 0.01, 'kernel': 'rbf'}\n0.890 (+/-0.100) for {'C': 10, 'gamma': 0.1, 'kernel': 'rbf'}\n0.897 (+/-0.114) for {'C': 10, 'gamma': 0.2, 'kernel': 'rbf'}\n0.871 (+/-0.122) for {'C': 10, 'gamma': 0.5, 'kernel': 'rbf'}\n0.676 (+/-0.117) for {'C': 100, 'gamma': 0.0001, 'kernel': 'rbf'}\n0.854 (+/-0.086) for {'C': 100, 'gamma': 0.001, 'kernel': 'rbf'}\n0.916 (+/-0.082) for {'C': 100, 'gamma': 0.01, 'kernel': 'rbf'}\n0.897 (+/-0.092) for {'C': 100, 'gamma': 0.1, 'kernel': 'rbf'}\n0.903 (+/-0.124) for {'C': 100, 'gamma': 0.2, 'kernel': 'rbf'}\n0.871 (+/-0.113) for {'C': 100, 'gamma': 0.5, 'kernel': 'rbf'}\n0.848 (+/-0.125) for {'C': 1000, 'gamma': 0.0001, 'kernel': 'rbf'}\n0.913 (+/-0.105) for {'C': 1000, 'gamma': 0.001, 'kernel': 'rbf'}\n0.932 (+/-0.066) for {'C': 1000, 'gamma': 0.01, 'kernel': 'rbf'}\n0.893 (+/-0.101) for {'C': 1000, 'gamma': 0.1, 'kernel': 'rbf'}\n0.903 (+/-0.124) for {'C': 1000, 'gamma': 0.2, 'kernel': 'rbf'}\n0.871 (+/-0.113) for {'C': 1000, 'gamma': 0.5, 'kernel': 'rbf'}\n0.900 (+/-0.085) for {'C': 1, 'kernel': 'linear'}\n0.919 (+/-0.079) for {'C': 10, 'kernel': 'linear'}\n0.909 (+/-0.083) for {'C': 100, 'kernel': 'linear'}\n0.906 (+/-0.083) for {'C': 1000, 'kernel': 'linear'}\n"
     ],
     "output_type": "stream"
    }
   ],
   "source": [
    "means = svm_clf.cv_results_['mean_test_score']\n",
    "stds = svm_clf.cv_results_['std_test_score']\n",
    "for mean, std, params in zip(means, stds, svm_clf.cv_results_['params']):\n",
    "    print(\"%0.3f (+/-%0.03f) for %r\" % (mean, std * 2, params))"
   ],
   "metadata": {
    "collapsed": false,
    "pycharm": {
     "name": "#%%\n",
     "is_executing": false
    }
   }
  },
  {
   "cell_type": "code",
   "execution_count": 36,
   "outputs": [],
   "source": [
    "y_pred_svm = svm_clf.predict(X_test)"
   ],
   "metadata": {
    "collapsed": false,
    "pycharm": {
     "name": "#%%\n",
     "is_executing": false
    }
   }
  },
  {
   "cell_type": "code",
   "execution_count": 37,
   "outputs": [
    {
     "data": {
      "text/plain": "0.9172932330827067"
     },
     "metadata": {},
     "output_type": "execute_result",
     "execution_count": 37
    }
   ],
   "source": [
    "metrics.accuracy_score(y_test, y_pred_svm)"
   ],
   "metadata": {
    "collapsed": false,
    "pycharm": {
     "name": "#%%\n",
     "is_executing": false
    }
   }
  },
  {
   "cell_type": "code",
   "execution_count": 38,
   "outputs": [
    {
     "name": "stdout",
     "text": [
      "              precision    recall  f1-score   support\n\n           0       0.93      0.93      0.93        28\n           1       0.82      0.90      0.86        20\n           2       0.93      0.89      0.91        28\n           3       0.97      1.00      0.98        31\n           4       1.00      0.81      0.90        16\n           5       0.82      0.90      0.86        10\n\n    accuracy                           0.92       133\n   macro avg       0.91      0.91      0.91       133\nweighted avg       0.92      0.92      0.92       133\n\n"
     ],
     "output_type": "stream"
    }
   ],
   "source": [
    "print(metrics.classification_report(y_test, y_pred_svm))"
   ],
   "metadata": {
    "collapsed": false,
    "pycharm": {
     "name": "#%%\n",
     "is_executing": false
    }
   }
  },
  {
   "cell_type": "markdown",
   "source": [
    "### Dimensionality Reduction using PCA"
   ],
   "metadata": {
    "collapsed": false
   }
  },
  {
   "cell_type": "code",
   "execution_count": 39,
   "outputs": [],
   "source": [
    "from sklearn.decomposition import PCA"
   ],
   "metadata": {
    "collapsed": false,
    "pycharm": {
     "name": "#%%\n",
     "is_executing": false
    }
   }
  },
  {
   "cell_type": "code",
   "execution_count": 40,
   "outputs": [],
   "source": [
    "pca = PCA()"
   ],
   "metadata": {
    "collapsed": false,
    "pycharm": {
     "name": "#%%\n",
     "is_executing": false
    }
   }
  },
  {
   "cell_type": "code",
   "execution_count": 41,
   "outputs": [
    {
     "data": {
      "text/plain": "PCA(copy=True, iterated_power='auto', n_components=None, random_state=None,\n    svd_solver='auto', tol=0.0, whiten=False)"
     },
     "metadata": {},
     "output_type": "execute_result",
     "execution_count": 41
    }
   ],
   "source": [
    "pca.fit(X)"
   ],
   "metadata": {
    "collapsed": false,
    "pycharm": {
     "name": "#%%\n",
     "is_executing": false
    }
   }
  },
  {
   "cell_type": "code",
   "execution_count": 42,
   "outputs": [
    {
     "data": {
      "text/plain": "array([9.99978194e-01, 2.00913222e-05, 8.96260876e-07, 4.57662695e-07,\n       2.35144017e-07, 8.63322624e-08, 2.21645288e-08, 1.51488823e-08,\n       1.34750145e-09, 6.28821065e-10, 1.77076449e-10, 1.52576136e-10,\n       8.38577689e-11, 1.42717749e-11, 8.48344307e-12, 1.76903458e-14,\n       7.48007838e-17])"
     },
     "metadata": {},
     "output_type": "execute_result",
     "execution_count": 42
    }
   ],
   "source": [
    "var= pca.explained_variance_ratio_\n",
    "var"
   ],
   "metadata": {
    "collapsed": false,
    "pycharm": {
     "name": "#%%\n",
     "is_executing": false
    }
   }
  },
  {
   "cell_type": "code",
   "execution_count": 43,
   "outputs": [],
   "source": [
    "import matplotlib.pyplot as plt\n",
    "%matplotlib inline"
   ],
   "metadata": {
    "collapsed": false,
    "pycharm": {
     "name": "#%%\n",
     "is_executing": false
    }
   }
  },
  {
   "cell_type": "code",
   "execution_count": 44,
   "outputs": [
    {
     "data": {
      "text/plain": "[<matplotlib.lines.Line2D at 0x139d82e80>]"
     },
     "metadata": {},
     "output_type": "execute_result",
     "execution_count": 44
    },
    {
     "data": {
      "text/plain": "<Figure size 432x288 with 1 Axes>",
      "image/png": "[encoded data removed]"
     },
     "metadata": {
      "needs_background": "light"
     },
     "output_type": "display_data"
    }
   ],
   "source": [
    "var1=np.cumsum(np.round(pca.explained_variance_ratio_, decimals=4)*100)\n",
    "plt.plot(var1)"
   ],
   "metadata": {
    "collapsed": false,
    "pycharm": {
     "name": "#%%\n",
     "is_executing": false
    }
   }
  },
  {
   "cell_type": "markdown",
   "source": [
    "### Testing with mobile captured leaves which are not classified"
   ],
   "metadata": {
    "collapsed": false
   }
  },
  {
   "cell_type": "code",
   "execution_count": 45,
   "outputs": [],
   "source": [
    "import cv2\n",
    "from background_subtract import bg_sub"
   ],
   "metadata": {
    "collapsed": false,
    "pycharm": {
     "name": "#%%\n",
     "is_executing": false
    }
   }
  },
  {
   "cell_type": "code",
   "execution_count": 46,
   "outputs": [],
   "source": [
    "filename = \"l16.jpg\"\n",
    "bg_rem_img = bg_sub(filename)"
   ],
   "metadata": {
    "collapsed": false,
    "pycharm": {
     "name": "#%%\n",
     "is_executing": false
    }
   }
  },
  {
   "cell_type": "code",
   "execution_count": 47,
   "outputs": [
    {
     "data": {
      "text/plain": "<matplotlib.image.AxesImage at 0x1272b74a8>"
     },
     "metadata": {},
     "output_type": "execute_result",
     "execution_count": 47
    },
    {
     "data": {
      "text/plain": "<Figure size 432x288 with 1 Axes>",
      "image/png": "[encoded data removed]"
     },
     "metadata": {
      "needs_background": "light"
     },
     "output_type": "display_data"
    }
   ],
   "source": [
    "plt.imshow(bg_rem_img)"
   ],
   "metadata": {
    "collapsed": false,
    "pycharm": {
     "name": "#%%\n",
     "is_executing": false
    }
   }
  },
  {
   "cell_type": "code",
   "execution_count": 48,
   "outputs": [],
   "source": [
    "from feature_extract import feature_extract as f_e"
   ],
   "metadata": {
    "collapsed": false,
    "pycharm": {
     "name": "#%%\n",
     "is_executing": false
    }
   }
  },
  {
   "cell_type": "code",
   "execution_count": 49,
   "outputs": [
    {
     "data": {
      "text/plain": "      area    perimeter pysiological_length pysiological_width  aspect_ratio  \\\n0  40448.0  1019.352377                 197                351      0.561254   \n\n   rectangularity  circularity     mean_r     mean_g     mean_b   stddev_r  \\\n0        1.709528    25.689262  80.924454  82.147644  76.596939  104.55861   \n\n     stddev_g   stddev_b   contrast  correlation  inverse_difference_moments  \\\n0  104.486853  103.57732  34.664913     0.995505                    0.727816   \n\n   entropy  \n0  5.38445  ",
      "text/html": "<div>\n<style scoped>\n    .dataframe tbody tr th:only-of-type {\n        vertical-align: middle;\n    }\n\n    .dataframe tbody tr th {\n        vertical-align: top;\n    }\n\n    .dataframe thead th {\n        text-align: right;\n    }\n</style>\n<table border=\"1\" class=\"dataframe\">\n  <thead>\n    <tr style=\"text-align: right;\">\n      <th></th>\n      <th>area</th>\n      <th>perimeter</th>\n      <th>pysiological_length</th>\n      <th>pysiological_width</th>\n      <th>aspect_ratio</th>\n      <th>rectangularity</th>\n      <th>circularity</th>\n      <th>mean_r</th>\n      <th>mean_g</th>\n      <th>mean_b</th>\n      <th>stddev_r</th>\n      <th>stddev_g</th>\n      <th>stddev_b</th>\n      <th>contrast</th>\n      <th>correlation</th>\n      <th>inverse_difference_moments</th>\n      <th>entropy</th>\n    </tr>\n  </thead>\n  <tbody>\n    <tr>\n      <th>0</th>\n      <td>40448.0</td>\n      <td>1019.352377</td>\n      <td>197</td>\n      <td>351</td>\n      <td>0.561254</td>\n      <td>1.709528</td>\n      <td>25.689262</td>\n      <td>80.924454</td>\n      <td>82.147644</td>\n      <td>76.596939</td>\n      <td>104.55861</td>\n      <td>104.486853</td>\n      <td>103.57732</td>\n      <td>34.664913</td>\n      <td>0.995505</td>\n      <td>0.727816</td>\n      <td>5.38445</td>\n    </tr>\n  </tbody>\n</table>\n</div>"
     },
     "metadata": {},
     "output_type": "execute_result",
     "execution_count": 49
    }
   ],
   "source": [
    "features_of_img = f_e(cv2.imread(filename))\n",
    "features_of_img"
   ],
   "metadata": {
    "collapsed": false,
    "pycharm": {
     "name": "#%%\n",
     "is_executing": false
    }
   }
  },
  {
   "cell_type": "code",
   "execution_count": 50,
   "outputs": [
    {
     "name": "stdout",
     "text": [
      "[[-0.39496597 -0.37970325 -0.82346069  0.10159649 -1.34283924 -0.28306893\n  -0.34172351  0.25193579  0.21432763  0.23984074  1.15345716  1.16026876\n   0.88219568  0.85871337 -0.62068366 -0.64299601  0.3104499 ]]\n"
     ],
     "output_type": "stream"
    }
   ],
   "source": [
    "scaled_features = sc_X.transform(features_of_img)\n",
    "print(scaled_features)"
   ],
   "metadata": {
    "collapsed": false,
    "pycharm": {
     "name": "#%%\n",
     "is_executing": false
    }
   }
  },
  {
   "cell_type": "code",
   "execution_count": 51,
   "outputs": [
    {
     "data": {
      "text/plain": "3"
     },
     "metadata": {},
     "output_type": "execute_result",
     "execution_count": 51
    }
   ],
   "source": [
    "# y_pred_mobile = svm_clf.predict(features_of_img)\n",
    "y_pred_mobile = svm_clf.predict(scaled_features)\n",
    "y_pred_mobile[0]"
   ],
   "metadata": {
    "collapsed": false,
    "pycharm": {
     "name": "#%%\n",
     "is_executing": false
    }
   }
  },
  {
   "cell_type": "code",
   "execution_count": 52,
   "outputs": [
    {
     "data": {
      "text/plain": "'kelloggii'"
     },
     "metadata": {},
     "output_type": "execute_result",
     "execution_count": 52
    }
   ],
   "source": [
    "common_names = ['garryana', 'glabrum', 'macrophyllum',\n",
    "                'kelloggii', 'circinatum', 'negundo']\n",
    "\n",
    "common_names[y_pred_mobile[0]]\n"
   ],
   "metadata": {
    "collapsed": false,
    "pycharm": {
     "name": "#%%\n",
     "is_executing": false
    }
   }
  }
 ],
 "metadata": {
  "language_info": {
   "codemirror_mode": {
    "name": "ipython",
    "version": 2
   },
   "file_extension": ".py",
   "mimetype": "text/x-python",
   "name": "python",
   "nbconvert_exporter": "python",
   "pygments_lexer": "ipython2",
   "version": "2.7.6"
  },
  "kernelspec": {
   "name": "python3",
   "language": "python",
   "display_name": "Python 3"
  },
  "pycharm": {
   "stem_cell": {
    "cell_type": "raw",
    "source": [],
    "metadata": {
     "collapsed": false
    }
   }
  }
 },
 "nbformat": 4,
 "nbformat_minor": 0
}